{
  "nbformat": 4,
  "nbformat_minor": 0,
  "metadata": {
    "colab": {
      "name": "what_on_earth_are_GANs.ipynb",
      "provenance": [],
      "collapsed_sections": [],
      "authorship_tag": "ABX9TyPjLw8w2liIrP4JQQ0aNDFF"
    },
    "kernelspec": {
      "name": "python3",
      "display_name": "Python 3"
    },
    "accelerator": "GPU",
    "widgets": {
      "application/vnd.jupyter.widget-state+json": {
        "a8a25edb1e5b47dea159cd7613053262": {
          "model_module": "@jupyter-widgets/controls",
          "model_name": "HBoxModel",
          "state": {
            "_view_name": "HBoxView",
            "_dom_classes": [],
            "_model_name": "HBoxModel",
            "_view_module": "@jupyter-widgets/controls",
            "_model_module_version": "1.5.0",
            "_view_count": null,
            "_view_module_version": "1.5.0",
            "box_style": "",
            "layout": "IPY_MODEL_2370dde8004c487aba8ff6ff3a0d00e5",
            "_model_module": "@jupyter-widgets/controls",
            "children": [
              "IPY_MODEL_f23388ce77304491802baf1b52b21796",
              "IPY_MODEL_67524100c964489e9dfdc48f927c33a1"
            ]
          }
        },
        "2370dde8004c487aba8ff6ff3a0d00e5": {
          "model_module": "@jupyter-widgets/base",
          "model_name": "LayoutModel",
          "state": {
            "_view_name": "LayoutView",
            "grid_template_rows": null,
            "right": null,
            "justify_content": null,
            "_view_module": "@jupyter-widgets/base",
            "overflow": null,
            "_model_module_version": "1.2.0",
            "_view_count": null,
            "flex_flow": null,
            "width": null,
            "min_width": null,
            "border": null,
            "align_items": null,
            "bottom": null,
            "_model_module": "@jupyter-widgets/base",
            "top": null,
            "grid_column": null,
            "overflow_y": null,
            "overflow_x": null,
            "grid_auto_flow": null,
            "grid_area": null,
            "grid_template_columns": null,
            "flex": null,
            "_model_name": "LayoutModel",
            "justify_items": null,
            "grid_row": null,
            "max_height": null,
            "align_content": null,
            "visibility": null,
            "align_self": null,
            "height": null,
            "min_height": null,
            "padding": null,
            "grid_auto_rows": null,
            "grid_gap": null,
            "max_width": null,
            "order": null,
            "_view_module_version": "1.2.0",
            "grid_template_areas": null,
            "object_position": null,
            "object_fit": null,
            "grid_auto_columns": null,
            "margin": null,
            "display": null,
            "left": null
          }
        },
        "f23388ce77304491802baf1b52b21796": {
          "model_module": "@jupyter-widgets/controls",
          "model_name": "IntProgressModel",
          "state": {
            "_view_name": "ProgressView",
            "style": "IPY_MODEL_7ba65c24ef3545faac9380b1f353486d",
            "_dom_classes": [],
            "description": "100%",
            "_model_name": "IntProgressModel",
            "bar_style": "success",
            "max": 60,
            "_view_module": "@jupyter-widgets/controls",
            "_model_module_version": "1.5.0",
            "value": 60,
            "_view_count": null,
            "_view_module_version": "1.5.0",
            "orientation": "horizontal",
            "min": 0,
            "description_tooltip": null,
            "_model_module": "@jupyter-widgets/controls",
            "layout": "IPY_MODEL_cfe3ac1ddc6f4cc3bdcd8cfdd4e86525"
          }
        },
        "67524100c964489e9dfdc48f927c33a1": {
          "model_module": "@jupyter-widgets/controls",
          "model_name": "HTMLModel",
          "state": {
            "_view_name": "HTMLView",
            "style": "IPY_MODEL_07c4677a3169421f946f46c07b4edf1c",
            "_dom_classes": [],
            "description": "",
            "_model_name": "HTMLModel",
            "placeholder": "​",
            "_view_module": "@jupyter-widgets/controls",
            "_model_module_version": "1.5.0",
            "value": " 60/60 [00:59&lt;00:00,  1.01it/s]",
            "_view_count": null,
            "_view_module_version": "1.5.0",
            "description_tooltip": null,
            "_model_module": "@jupyter-widgets/controls",
            "layout": "IPY_MODEL_141fee78981f4bcbb81b93e79f50c034"
          }
        },
        "7ba65c24ef3545faac9380b1f353486d": {
          "model_module": "@jupyter-widgets/controls",
          "model_name": "ProgressStyleModel",
          "state": {
            "_view_name": "StyleView",
            "_model_name": "ProgressStyleModel",
            "description_width": "initial",
            "_view_module": "@jupyter-widgets/base",
            "_model_module_version": "1.5.0",
            "_view_count": null,
            "_view_module_version": "1.2.0",
            "bar_color": null,
            "_model_module": "@jupyter-widgets/controls"
          }
        },
        "cfe3ac1ddc6f4cc3bdcd8cfdd4e86525": {
          "model_module": "@jupyter-widgets/base",
          "model_name": "LayoutModel",
          "state": {
            "_view_name": "LayoutView",
            "grid_template_rows": null,
            "right": null,
            "justify_content": null,
            "_view_module": "@jupyter-widgets/base",
            "overflow": null,
            "_model_module_version": "1.2.0",
            "_view_count": null,
            "flex_flow": null,
            "width": null,
            "min_width": null,
            "border": null,
            "align_items": null,
            "bottom": null,
            "_model_module": "@jupyter-widgets/base",
            "top": null,
            "grid_column": null,
            "overflow_y": null,
            "overflow_x": null,
            "grid_auto_flow": null,
            "grid_area": null,
            "grid_template_columns": null,
            "flex": null,
            "_model_name": "LayoutModel",
            "justify_items": null,
            "grid_row": null,
            "max_height": null,
            "align_content": null,
            "visibility": null,
            "align_self": null,
            "height": null,
            "min_height": null,
            "padding": null,
            "grid_auto_rows": null,
            "grid_gap": null,
            "max_width": null,
            "order": null,
            "_view_module_version": "1.2.0",
            "grid_template_areas": null,
            "object_position": null,
            "object_fit": null,
            "grid_auto_columns": null,
            "margin": null,
            "display": null,
            "left": null
          }
        },
        "07c4677a3169421f946f46c07b4edf1c": {
          "model_module": "@jupyter-widgets/controls",
          "model_name": "DescriptionStyleModel",
          "state": {
            "_view_name": "StyleView",
            "_model_name": "DescriptionStyleModel",
            "description_width": "",
            "_view_module": "@jupyter-widgets/base",
            "_model_module_version": "1.5.0",
            "_view_count": null,
            "_view_module_version": "1.2.0",
            "_model_module": "@jupyter-widgets/controls"
          }
        },
        "141fee78981f4bcbb81b93e79f50c034": {
          "model_module": "@jupyter-widgets/base",
          "model_name": "LayoutModel",
          "state": {
            "_view_name": "LayoutView",
            "grid_template_rows": null,
            "right": null,
            "justify_content": null,
            "_view_module": "@jupyter-widgets/base",
            "overflow": null,
            "_model_module_version": "1.2.0",
            "_view_count": null,
            "flex_flow": null,
            "width": null,
            "min_width": null,
            "border": null,
            "align_items": null,
            "bottom": null,
            "_model_module": "@jupyter-widgets/base",
            "top": null,
            "grid_column": null,
            "overflow_y": null,
            "overflow_x": null,
            "grid_auto_flow": null,
            "grid_area": null,
            "grid_template_columns": null,
            "flex": null,
            "_model_name": "LayoutModel",
            "justify_items": null,
            "grid_row": null,
            "max_height": null,
            "align_content": null,
            "visibility": null,
            "align_self": null,
            "height": null,
            "min_height": null,
            "padding": null,
            "grid_auto_rows": null,
            "grid_gap": null,
            "max_width": null,
            "order": null,
            "_view_module_version": "1.2.0",
            "grid_template_areas": null,
            "object_position": null,
            "object_fit": null,
            "grid_auto_columns": null,
            "margin": null,
            "display": null,
            "left": null
          }
        },
        "132e9ff841ea440ca5d99c71ea670fea": {
          "model_module": "@jupyter-widgets/controls",
          "model_name": "HBoxModel",
          "state": {
            "_view_name": "HBoxView",
            "_dom_classes": [],
            "_model_name": "HBoxModel",
            "_view_module": "@jupyter-widgets/controls",
            "_model_module_version": "1.5.0",
            "_view_count": null,
            "_view_module_version": "1.5.0",
            "box_style": "",
            "layout": "IPY_MODEL_b1f0b42c260a4925a7332c07f890f9ed",
            "_model_module": "@jupyter-widgets/controls",
            "children": [
              "IPY_MODEL_9034d08996994a7d87f5d041744c0183",
              "IPY_MODEL_70a77a7c28b6448f9cbf77c84e7a8555"
            ]
          }
        },
        "b1f0b42c260a4925a7332c07f890f9ed": {
          "model_module": "@jupyter-widgets/base",
          "model_name": "LayoutModel",
          "state": {
            "_view_name": "LayoutView",
            "grid_template_rows": null,
            "right": null,
            "justify_content": null,
            "_view_module": "@jupyter-widgets/base",
            "overflow": null,
            "_model_module_version": "1.2.0",
            "_view_count": null,
            "flex_flow": null,
            "width": null,
            "min_width": null,
            "border": null,
            "align_items": null,
            "bottom": null,
            "_model_module": "@jupyter-widgets/base",
            "top": null,
            "grid_column": null,
            "overflow_y": null,
            "overflow_x": null,
            "grid_auto_flow": null,
            "grid_area": null,
            "grid_template_columns": null,
            "flex": null,
            "_model_name": "LayoutModel",
            "justify_items": null,
            "grid_row": null,
            "max_height": null,
            "align_content": null,
            "visibility": null,
            "align_self": null,
            "height": null,
            "min_height": null,
            "padding": null,
            "grid_auto_rows": null,
            "grid_gap": null,
            "max_width": null,
            "order": null,
            "_view_module_version": "1.2.0",
            "grid_template_areas": null,
            "object_position": null,
            "object_fit": null,
            "grid_auto_columns": null,
            "margin": null,
            "display": null,
            "left": null
          }
        },
        "9034d08996994a7d87f5d041744c0183": {
          "model_module": "@jupyter-widgets/controls",
          "model_name": "IntProgressModel",
          "state": {
            "_view_name": "ProgressView",
            "style": "IPY_MODEL_e036390ab7ab4143885279cb8c5f589b",
            "_dom_classes": [],
            "description": "100%",
            "_model_name": "IntProgressModel",
            "bar_style": "success",
            "max": 60,
            "_view_module": "@jupyter-widgets/controls",
            "_model_module_version": "1.5.0",
            "value": 60,
            "_view_count": null,
            "_view_module_version": "1.5.0",
            "orientation": "horizontal",
            "min": 0,
            "description_tooltip": null,
            "_model_module": "@jupyter-widgets/controls",
            "layout": "IPY_MODEL_9cedc85dcbd2468f8f2316547fe2a722"
          }
        },
        "70a77a7c28b6448f9cbf77c84e7a8555": {
          "model_module": "@jupyter-widgets/controls",
          "model_name": "HTMLModel",
          "state": {
            "_view_name": "HTMLView",
            "style": "IPY_MODEL_7d461bec0dcc4748aa10df6ccb21d45f",
            "_dom_classes": [],
            "description": "",
            "_model_name": "HTMLModel",
            "placeholder": "​",
            "_view_module": "@jupyter-widgets/controls",
            "_model_module_version": "1.5.0",
            "value": " 60/60 [00:49&lt;00:00,  1.22it/s]",
            "_view_count": null,
            "_view_module_version": "1.5.0",
            "description_tooltip": null,
            "_model_module": "@jupyter-widgets/controls",
            "layout": "IPY_MODEL_c0732c4f52a942649cac52cae677e1d1"
          }
        },
        "e036390ab7ab4143885279cb8c5f589b": {
          "model_module": "@jupyter-widgets/controls",
          "model_name": "ProgressStyleModel",
          "state": {
            "_view_name": "StyleView",
            "_model_name": "ProgressStyleModel",
            "description_width": "initial",
            "_view_module": "@jupyter-widgets/base",
            "_model_module_version": "1.5.0",
            "_view_count": null,
            "_view_module_version": "1.2.0",
            "bar_color": null,
            "_model_module": "@jupyter-widgets/controls"
          }
        },
        "9cedc85dcbd2468f8f2316547fe2a722": {
          "model_module": "@jupyter-widgets/base",
          "model_name": "LayoutModel",
          "state": {
            "_view_name": "LayoutView",
            "grid_template_rows": null,
            "right": null,
            "justify_content": null,
            "_view_module": "@jupyter-widgets/base",
            "overflow": null,
            "_model_module_version": "1.2.0",
            "_view_count": null,
            "flex_flow": null,
            "width": null,
            "min_width": null,
            "border": null,
            "align_items": null,
            "bottom": null,
            "_model_module": "@jupyter-widgets/base",
            "top": null,
            "grid_column": null,
            "overflow_y": null,
            "overflow_x": null,
            "grid_auto_flow": null,
            "grid_area": null,
            "grid_template_columns": null,
            "flex": null,
            "_model_name": "LayoutModel",
            "justify_items": null,
            "grid_row": null,
            "max_height": null,
            "align_content": null,
            "visibility": null,
            "align_self": null,
            "height": null,
            "min_height": null,
            "padding": null,
            "grid_auto_rows": null,
            "grid_gap": null,
            "max_width": null,
            "order": null,
            "_view_module_version": "1.2.0",
            "grid_template_areas": null,
            "object_position": null,
            "object_fit": null,
            "grid_auto_columns": null,
            "margin": null,
            "display": null,
            "left": null
          }
        },
        "7d461bec0dcc4748aa10df6ccb21d45f": {
          "model_module": "@jupyter-widgets/controls",
          "model_name": "DescriptionStyleModel",
          "state": {
            "_view_name": "StyleView",
            "_model_name": "DescriptionStyleModel",
            "description_width": "",
            "_view_module": "@jupyter-widgets/base",
            "_model_module_version": "1.5.0",
            "_view_count": null,
            "_view_module_version": "1.2.0",
            "_model_module": "@jupyter-widgets/controls"
          }
        },
        "c0732c4f52a942649cac52cae677e1d1": {
          "model_module": "@jupyter-widgets/base",
          "model_name": "LayoutModel",
          "state": {
            "_view_name": "LayoutView",
            "grid_template_rows": null,
            "right": null,
            "justify_content": null,
            "_view_module": "@jupyter-widgets/base",
            "overflow": null,
            "_model_module_version": "1.2.0",
            "_view_count": null,
            "flex_flow": null,
            "width": null,
            "min_width": null,
            "border": null,
            "align_items": null,
            "bottom": null,
            "_model_module": "@jupyter-widgets/base",
            "top": null,
            "grid_column": null,
            "overflow_y": null,
            "overflow_x": null,
            "grid_auto_flow": null,
            "grid_area": null,
            "grid_template_columns": null,
            "flex": null,
            "_model_name": "LayoutModel",
            "justify_items": null,
            "grid_row": null,
            "max_height": null,
            "align_content": null,
            "visibility": null,
            "align_self": null,
            "height": null,
            "min_height": null,
            "padding": null,
            "grid_auto_rows": null,
            "grid_gap": null,
            "max_width": null,
            "order": null,
            "_view_module_version": "1.2.0",
            "grid_template_areas": null,
            "object_position": null,
            "object_fit": null,
            "grid_auto_columns": null,
            "margin": null,
            "display": null,
            "left": null
          }
        }
      }
    }
  },
  "cells": [
    {
      "cell_type": "code",
      "metadata": {
        "id": "9e1yA4JjC8qI",
        "colab_type": "code",
        "colab": {}
      },
      "source": [
        "import torch \n",
        "import torch.optim as optim\n",
        "import torch.nn as nn\n",
        "import torch.nn.functional as F\n",
        "import numpy as np\n",
        "import matplotlib.pyplot as plt\n",
        "import torchvision\n",
        "import torchvision.transforms as transforms \n",
        "from tqdm.notebook import  tqdm\n",
        "from IPython.display import clear_output\n"
      ],
      "execution_count": 0,
      "outputs": []
    },
    {
      "cell_type": "code",
      "metadata": {
        "id": "WLT9Y9lbDw-x",
        "colab_type": "code",
        "colab": {}
      },
      "source": [
        "class AddGaussianNoise(object):\n",
        "    def __init__(self, mean=0., std=0.5):\n",
        "        self.std = std\n",
        "        self.mean = mean\n",
        "        \n",
        "    def __call__(self, tensor):\n",
        "        return tensor + torch.randn(tensor.size()) * self.std + self.mean\n",
        "    \n",
        "    def __repr__(self):\n",
        "        return self.__class__.__name__ + '(mean={0}, std={1})'.format(self.mean, self.std)\n",
        "\n",
        "\n",
        "transforms = transforms.Compose([\n",
        "    torchvision.transforms.ToTensor(),\n",
        "    AddGaussianNoise(mean = 0.5, std = 0.01),\n",
        "])\n",
        "\n",
        "train = torchvision.datasets.MNIST('./data', train=True, download=True, transform=transforms )"
      ],
      "execution_count": 0,
      "outputs": []
    },
    {
      "cell_type": "code",
      "metadata": {
        "id": "Dfz6szRbEAwT",
        "colab_type": "code",
        "colab": {}
      },
      "source": [
        "train_loader = torch.utils.data.DataLoader(train, batch_size = 1000, shuffle = True)"
      ],
      "execution_count": 0,
      "outputs": []
    },
    {
      "cell_type": "code",
      "metadata": {
        "id": "qQYVb2RtMaWV",
        "colab_type": "code",
        "colab": {
          "base_uri": "https://localhost:8080/",
          "height": 484
        },
        "outputId": "5b863952-26c0-4108-8158-7db247e670de"
      },
      "source": [
        "sample = next(iter(train_loader))\n",
        "x, y = sample\n",
        "x = x[:9]\n",
        "fig, ax = plt.subplots(3,3, figsize = (8,8))\n",
        "for m in range(3):\n",
        "    for n in range(3):\n",
        "\n",
        "        np_image = x[m+n].squeeze(0).detach().numpy()\n",
        "\n",
        "        ax[m,n].imshow(np_image, cmap = \"gray\")"
      ],
      "execution_count": 38,
      "outputs": [
        {
          "output_type": "display_data",
          "data": {
            "image/png": "[encoded data removed]",
            "text/plain": [
              "<Figure size 576x576 with 9 Axes>"
            ]
          },
          "metadata": {
            "tags": [],
            "needs_background": "light"
          }
        }
      ]
    },
    {
      "cell_type": "code",
      "metadata": {
        "id": "P7usjCuAJuLw",
        "colab_type": "code",
        "colab": {}
      },
      "source": [
        "def init_weights(m):\n",
        "    if type(m) == nn.Linear:\n",
        "        nn.init.xavier_uniform_(m.weight)\n",
        "        m.bias.data.fill_(0)"
      ],
      "execution_count": 0,
      "outputs": []
    },
    {
      "cell_type": "code",
      "metadata": {
        "id": "GdTUwpRkEoia",
        "colab_type": "code",
        "colab": {}
      },
      "source": [
        "class Net(nn.Module):\n",
        "    def __init__(self):\n",
        "        super(Net, self).__init__()\n",
        "        \n",
        "        self.model = nn.Sequential(\n",
        "            nn.Linear(28*28, 2*28*28),\n",
        "            nn.ReLU(),\n",
        "            nn.Linear(2*28*28, 28*28),\n",
        "            nn.Sigmoid()\n",
        "        ) \n",
        "        self.model.apply(init_weights)\n",
        "\n",
        "    def forward(self, x):\n",
        "        \n",
        "        return self.model(x)\n",
        "\n",
        "G = Net()\n",
        "G_optim = optim.Adam(G.parameters(), lr = 0.00005)"
      ],
      "execution_count": 0,
      "outputs": []
    },
    {
      "cell_type": "code",
      "metadata": {
        "id": "iz3VLIX3JSvh",
        "colab_type": "code",
        "colab": {}
      },
      "source": [
        "class Net_dis(nn.Module):\n",
        "    def __init__(self):\n",
        "        super(Net_dis, self).__init__()\n",
        "        \n",
        "        self.model = nn.Sequential(\n",
        "            nn.Linear(28*28, 2*28*28),\n",
        "            nn.ReLU(),\n",
        "            nn.Linear(2*28*28, 1),\n",
        "            nn.Sigmoid()\n",
        "        ) \n",
        "        self.model.apply(init_weights)\n",
        "\n",
        "\n",
        "    def forward(self, x):\n",
        "        \n",
        "\n",
        "        return self.model(x)\n",
        "\n",
        "D = Net_dis()\n",
        "D_optim = optim.Adam(D.parameters(), lr = 0.00003)\n"
      ],
      "execution_count": 0,
      "outputs": []
    },
    {
      "cell_type": "code",
      "metadata": {
        "id": "52y9RMttEzKT",
        "colab_type": "code",
        "colab": {}
      },
      "source": [
        "noise = torch.randn([1,1, 1, 28*28])\n",
        "answer = G(noise).squeeze(0).squeeze(0).view([28,28]).detach().numpy()"
      ],
      "execution_count": 0,
      "outputs": []
    },
    {
      "cell_type": "code",
      "metadata": {
        "id": "dwvrpLmIInJd",
        "colab_type": "code",
        "outputId": "1d0e368e-5d5f-4470-ae45-2f476e1cabe9",
        "colab": {
          "base_uri": "https://localhost:8080/",
          "height": 283
        }
      },
      "source": [
        "plt.imshow(answer, cmap = \"gray\")"
      ],
      "execution_count": 17,
      "outputs": [
        {
          "output_type": "execute_result",
          "data": {
            "text/plain": [
              "<matplotlib.image.AxesImage at 0x7f8064a88eb8>"
            ]
          },
          "metadata": {
            "tags": []
          },
          "execution_count": 17
        },
        {
          "output_type": "display_data",
          "data": {
            "image/png": "[encoded data removed]",
            "text/plain": [
              "<Figure size 432x288 with 1 Axes>"
            ]
          },
          "metadata": {
            "tags": [],
            "needs_background": "light"
          }
        }
      ]
    },
    {
      "cell_type": "code",
      "metadata": {
        "id": "qtx1ua80befr",
        "colab_type": "code",
        "colab": {}
      },
      "source": [
        "def plot_all_losses(d_real_loss, d_fake_loss, g_loss_run):\n",
        "    plt.plot(d_real_loss, label = \"D-real-loss\")\n",
        "    plt.plot(d_fake_loss, label = \"D-fake-loss\")\n",
        "    plt.plot(g_loss_run, label = \"G-loss\")\n",
        "    plt.legend()\n",
        "    plt.show()\n",
        "\n",
        "def show_gen_sample(z,G):\n",
        "\n",
        "    samples = G(z[0]).detach()\n",
        "    samples = samples.view([28,28])\n",
        "    sample = samples.numpy()\n",
        "    plt.imshow(sample, cmap = \"gray\")\n",
        "    plt.show()\n"
      ],
      "execution_count": 0,
      "outputs": []
    },
    {
      "cell_type": "code",
      "metadata": {
        "id": "1HJQ53ioNoj0",
        "colab_type": "code",
        "outputId": "2668234d-fafb-4290-9477-a1517ac8689f",
        "colab": {
          "base_uri": "https://localhost:8080/",
          "height": 531,
          "referenced_widgets": [
            "a8a25edb1e5b47dea159cd7613053262",
            "2370dde8004c487aba8ff6ff3a0d00e5",
            "f23388ce77304491802baf1b52b21796",
            "67524100c964489e9dfdc48f927c33a1",
            "7ba65c24ef3545faac9380b1f353486d",
            "cfe3ac1ddc6f4cc3bdcd8cfdd4e86525",
            "07c4677a3169421f946f46c07b4edf1c",
            "141fee78981f4bcbb81b93e79f50c034",
            "132e9ff841ea440ca5d99c71ea670fea",
            "b1f0b42c260a4925a7332c07f890f9ed",
            "9034d08996994a7d87f5d041744c0183",
            "70a77a7c28b6448f9cbf77c84e7a8555",
            "e036390ab7ab4143885279cb8c5f589b",
            "9cedc85dcbd2468f8f2316547fe2a722",
            "7d461bec0dcc4748aa10df6ccb21d45f",
            "c0732c4f52a942649cac52cae677e1d1"
          ]
        }
      },
      "source": [
        "g_loss_run = []\n",
        "d_real_loss_run = []\n",
        "d_fake_loss_run = []\n",
        "\n",
        "\n",
        "for epoch in range(2):\n",
        "    \n",
        "\n",
        "    for data in tqdm(train_loader):\n",
        "\n",
        "        print(\"epoch \", epoch +1 )\n",
        "        x, _ = data \n",
        "\n",
        "        nb_size = x.size(0)\n",
        "\n",
        "        x = x.view(x.size(0), -1)\n",
        "\n",
        "        one_labels = torch.ones(nb_size, 1)\n",
        "        zero_labels = torch.zeros(nb_size, 1)\n",
        "\n",
        "        z = torch.randn(nb_size, 28*28)\n",
        "       \n",
        "\n",
        "        G_sample = G(z)\n",
        "\n",
        "        D_fake = D(G_sample)\n",
        "\n",
        "        D_real = D(x)\n",
        "\n",
        "        D_fake_loss = F.binary_cross_entropy(D_fake, zero_labels)\n",
        "        D_real_loss = F.binary_cross_entropy(D_real, one_labels)\n",
        "\n",
        "        D_loss = D_fake_loss + D_real_loss\n",
        "\n",
        "        D_optim.zero_grad()\n",
        "        D_loss.backward()\n",
        "        D_optim.step()\n",
        "\n",
        "        z = torch.randn(nb_size, 28*28 )\n",
        "\n",
        "        G_sample = G(z)\n",
        "        D_fake = D(G_sample)\n",
        "\n",
        "        G_loss =  F.binary_cross_entropy(D_fake, one_labels)\n",
        "\n",
        "        G_optim.zero_grad()\n",
        "        G_loss.backward()\n",
        "        G_optim.step()\n",
        "\n",
        "        g_loss_run.append(G_loss)\n",
        "        d_real_loss_run.append(D_real_loss)\n",
        "        d_fake_loss_run.append(D_fake_loss)\n",
        "\n",
        "        clear_output(wait = True)\n",
        "\n",
        "        plot_all_losses(d_real_loss_run, d_fake_loss_run, g_loss_run)\n",
        "        \n",
        "        show_gen_sample(z,G)\n",
        "\n"
      ],
      "execution_count": 41,
      "outputs": [
        {
          "output_type": "display_data",
          "data": {
            "image/png": "[encoded data removed]",
            "text/plain": [
              "<Figure size 432x288 with 1 Axes>"
            ]
          },
          "metadata": {
            "tags": [],
            "needs_background": "light"
          }
        },
        {
          "output_type": "display_data",
          "data": {
            "image/png": "[encoded data removed]",
            "text/plain": [
              "<Figure size 432x288 with 1 Axes>"
            ]
          },
          "metadata": {
            "tags": [],
            "needs_background": "light"
          }
        },
        {
          "output_type": "stream",
          "text": [
            "\n"
          ],
          "name": "stdout"
        }
      ]
    }
  ]
}